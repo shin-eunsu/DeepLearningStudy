{
 "cells": [
  {
   "cell_type": "code",
   "execution_count": 1,
   "id": "441d2848",
   "metadata": {},
   "outputs": [],
   "source": [
    "import os\n",
    "import cv2\n",
    "import shutil"
   ]
  },
  {
   "cell_type": "markdown",
   "id": "675b2e19",
   "metadata": {},
   "source": [
    "# Multi Directory Corp & Resize\n",
    "## Directory Name = Class Name\n",
    "## srcPath 폴더안에 클래스명 디렉토리로 이미지 분류된 상태"
   ]
  },
  {
   "cell_type": "code",
   "execution_count": 3,
   "id": "45fc5bf7",
   "metadata": {},
   "outputs": [
    {
     "name": "stdout",
     "output_type": "stream",
     "text": [
      "['cls1', 'cls2']\n"
     ]
    }
   ],
   "source": [
    "srcPath = 'D:/ImageData/'\n",
    "dstPath = 'D:/DataSet2/'\n",
    "if not os.path.exists(dstPath):\n",
    "    os.mkdir(dstPath)\n",
    "imgDirectory = os.listdir(srcPath)\n",
    "# print(imgDirectory)"
   ]
  },
  {
   "cell_type": "code",
   "execution_count": 4,
   "id": "07a209ec",
   "metadata": {},
   "outputs": [],
   "source": [
    "roiX = 200\n",
    "roiY = 0\n",
    "roiWidth = 1350\n",
    "roiHeight = 2056"
   ]
  },
  {
   "cell_type": "code",
   "execution_count": 5,
   "id": "bfcfef70",
   "metadata": {},
   "outputs": [],
   "source": [
    "for imgDir in imgDirectory:\n",
    "    i = 1\n",
    "    imgDirPath = srcPath + imgDir +'/'\n",
    "    imgList = os.listdir(imgDirPath)\n",
    "    for img in imgList:\n",
    "        src = cv2.imread(imgDirPath + img)\n",
    "        crop_img =  src[roiY:roiY + roiHeight, roiX: roiX + roiWidth].copy()\n",
    "        crop_img = cv2.resize(crop_img, (0, 0), fx = 0.5, fy = 0.5, interpolation=cv2.INTER_AREA)\n",
    "        cv2.imwrite(dstPath + str(imgDir) + '_' + str(i) + '.jpg', crop_img)\n",
    "        i += 1"
   ]
  },
  {
   "cell_type": "code",
   "execution_count": 7,
   "id": "8355bc4f",
   "metadata": {},
   "outputs": [
    {
     "name": "stdout",
     "output_type": "stream",
     "text": [
      "cls1_1.jpg\n",
      "cls1_2.jpg\n",
      "cls1_3.jpg\n",
      "cls2_1.jpg\n",
      "cls2_2.jpg\n"
     ]
    }
   ],
   "source": [
    "dstPath = 'D:/DataSet2/'\n",
    "imgDirectory = os.listdir(dstPath)\n",
    "for imgDir in imgDirectory:\n",
    "    print(imgDir)"
   ]
  },
  {
   "cell_type": "markdown",
   "id": "253f4017",
   "metadata": {},
   "source": [
    "# Single Directory Resize Only\n",
    "## srcPath에 모든 이미지 파일 있을때"
   ]
  },
  {
   "cell_type": "code",
   "execution_count": 25,
   "id": "9c4ebdb2",
   "metadata": {},
   "outputs": [],
   "source": [
    "srcPath = 'D:/ImageData/'\n",
    "dstPath = 'D:/DataSet2/'\n",
    "if not os.path.exists(dstPath):\n",
    "    os.mkdir(dstPath)\n",
    "imgDirectory = os.listdir(srcPath)\n",
    "# print(imgDirectory)"
   ]
  },
  {
   "cell_type": "code",
   "execution_count": 29,
   "id": "3e5e3229",
   "metadata": {},
   "outputs": [],
   "source": [
    "for img in imgDirectory:\n",
    "    src = cv2.imread(srcPath + img)\n",
    "    resize_img = cv2.resize(src, (0, 0), fx = 0.2, fy = 0.2, interpolation=cv2.INTER_AREA)\n",
    "    cv2.imwrite(dstPath + str(img.split('.')[0]) + '.jpg', src)"
   ]
  },
  {
   "cell_type": "code",
   "execution_count": null,
   "id": "941c542f",
   "metadata": {},
   "outputs": [],
   "source": []
  }
 ],
 "metadata": {
  "kernelspec": {
   "display_name": "Python 3 (ipykernel)",
   "language": "python",
   "name": "python3"
  },
  "language_info": {
   "codemirror_mode": {
    "name": "ipython",
    "version": 3
   },
   "file_extension": ".py",
   "mimetype": "text/x-python",
   "name": "python",
   "nbconvert_exporter": "python",
   "pygments_lexer": "ipython3",
   "version": "3.7.11"
  }
 },
 "nbformat": 4,
 "nbformat_minor": 5
}
