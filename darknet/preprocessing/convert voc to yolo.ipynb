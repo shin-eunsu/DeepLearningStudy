{
 "cells": [
  {
   "cell_type": "code",
   "execution_count": 1,
   "metadata": {},
   "outputs": [],
   "source": [
    "import glob\n",
    "import os\n",
    "import pickle\n",
    "import xml.etree.ElementTree as ET\n",
    "from os import listdir, getcwd\n",
    "from os.path import join\n",
    "import shutil"
   ]
  },
  {
   "cell_type": "markdown",
   "metadata": {},
   "source": [
    "## Get Classes"
   ]
  },
  {
   "cell_type": "code",
   "execution_count": 2,
   "metadata": {},
   "outputs": [],
   "source": [
    "txtDirPath = 'D:/class/'\n",
    "fileList = os.listdir(txtDirPath)\n",
    "txtList = [file for file in fileList if file.endswith(\".txt\")]\n",
    "\n",
    "classes = []\n",
    "for txt in txtList:\n",
    "    txtPath = txtDirPath + txt\n",
    "    \n",
    "    if txt == \"classes.txt\":\n",
    "        with open(txtPath, 'r') as f:\n",
    "            for line in f.readlines():\n",
    "                classes.append(line.strip('\\n'))"
   ]
  },
  {
   "cell_type": "markdown",
   "metadata": {},
   "source": [
    "## def"
   ]
  },
  {
   "cell_type": "code",
   "execution_count": 3,
   "metadata": {},
   "outputs": [],
   "source": [
    "def getImagesInDir(dir_path):\n",
    "    image_list = []\n",
    "    for filename in glob.glob(dir_path + '/*.png'):\n",
    "        image_list.append(filename)\n",
    "    for filename in glob.glob(dir_path + '/*.jpg'):\n",
    "        image_list.append(filename)\n",
    "    return_list = []\n",
    "    for data in image_list:\n",
    "        return_list.append(data.replace('\\\\', '/'))\n",
    "    return return_list\n",
    "\n",
    "def convert(size, box):\n",
    "    dw = 1./(size[0])\n",
    "    dh = 1./(size[1])\n",
    "    x = (box[0] + box[1])/2.0 - 1\n",
    "    y = (box[2] + box[3])/2.0 - 1\n",
    "    w = box[1] - box[0]\n",
    "    h = box[3] - box[2]\n",
    "    x = x*dw\n",
    "    w = w*dw\n",
    "    y = y*dh\n",
    "    h = h*dh\n",
    "    return (x, y, w, h)\n",
    "\n",
    "\n",
    "def convert_annotation(dir_path, output_path, image_path):\n",
    "    basename = os.path.basename(image_path)\n",
    "    basename_no_ext = os.path.splitext(basename)[0]\n",
    "\n",
    "    in_file = open(dir_path + '/' + basename_no_ext + '.xml' ,encoding='UTF8')\n",
    "    out_file = open(output_path + basename_no_ext + '.txt', 'w' ,encoding='UTF8')\n",
    "    tree = ET.parse(in_file)\n",
    "    root = tree.getroot()\n",
    "    size = root.find('size')\n",
    "    w = int(size.find('width').text)\n",
    "    h = int(size.find('height').text)\n",
    "\n",
    "    for obj in root.iter('object'):\n",
    "        difficult = obj.find('difficult').text\n",
    "        cls = obj.find('name').text\n",
    "        if cls not in classes or int(difficult)==1:\n",
    "            continue\n",
    "        cls_id = classes.index(cls)\n",
    "        xmlbox = obj.find('bndbox')\n",
    "        b = (float(xmlbox.find('xmin').text), float(xmlbox.find('xmax').text), float(xmlbox.find('ymin').text), float(xmlbox.find('ymax').text))\n",
    "        bb = convert((w,h), b)\n",
    "        out_file.write(str(cls_id) + \" \" + \" \".join([str(a) for a in bb]) + '\\n')"
   ]
  },
  {
   "cell_type": "markdown",
   "metadata": {},
   "source": [
    "## init Dir PATH"
   ]
  },
  {
   "cell_type": "code",
   "execution_count": 20,
   "metadata": {},
   "outputs": [],
   "source": [
    "dir_path = 'D:/voc_to_yolo/'"
   ]
  },
  {
   "cell_type": "markdown",
   "metadata": {},
   "source": [
    "## Convert Voc to Yolo (1 dir)"
   ]
  },
  {
   "cell_type": "code",
   "execution_count": 84,
   "metadata": {},
   "outputs": [
    {
     "name": "stdout",
     "output_type": "stream",
     "text": [
      "D:/voclabel/\n",
      "Finished processing: D:/voclabel/\n"
     ]
    }
   ],
   "source": [
    "output_path = dir_path +'yolo/'\n",
    "\n",
    "if not os.path.exists(output_path):\n",
    "    os.makedirs(output_path)\n",
    "\n",
    "image_paths = getImagesInDir(dir_path)\n",
    "print(dir_path)\n",
    "list_file = open(dir_path + 'yolo.txt', 'w')\n",
    "\n",
    "for image_path in image_paths:\n",
    "    list_file.write(image_path + '\\n')\n",
    "    convert_annotation(dir_path, output_path, image_path)\n",
    "\n",
    "list_file.close()\n",
    "\n",
    "print(\"Finished processing: \" + dir_path)"
   ]
  },
  {
   "cell_type": "markdown",
   "metadata": {},
   "source": [
    "## Convert Voc to Yolo"
   ]
  },
  {
   "cell_type": "code",
   "execution_count": 22,
   "metadata": {
    "scrolled": true
   },
   "outputs": [
    {
     "name": "stdout",
     "output_type": "stream",
     "text": [
      "Finished processing: D:/voc_to_yolo/\n",
      "Finished processing: D:/voc_to_yolo/\n"
     ]
    }
   ],
   "source": [
    "for dirs in os.listdir(dir_path):\n",
    "    if os.path.isdir(dir_path + dirs):\n",
    "        full_dir_path = dir_path + dirs + '/'\n",
    "        output_path = full_dir_path\n",
    "\n",
    "        image_paths = getImagesInDir(full_dir_path)\n",
    "        list_file = open(dir_path + dirs +'.txt', 'w')\n",
    "\n",
    "        for image_path in image_paths:\n",
    "            list_file.write(image_path + '\\n')\n",
    "            convert_annotation(full_dir_path, output_path, image_path)\n",
    "        \n",
    "        list_file.close()\n",
    "\n",
    "        print(\"Finished processing: \" + dir_path)"
   ]
  },
  {
   "cell_type": "code",
   "execution_count": 12,
   "metadata": {},
   "outputs": [
    {
     "data": {
      "text/plain": [
       "'D:/voc_to_yolo/valid.txt'"
      ]
     },
     "execution_count": 12,
     "metadata": {},
     "output_type": "execute_result"
    }
   ],
   "source": [
    "full_dir_path"
   ]
  },
  {
   "cell_type": "code",
   "execution_count": null,
   "metadata": {},
   "outputs": [],
   "source": []
  }
 ],
 "metadata": {
  "kernelspec": {
   "display_name": "Python 3 (ipykernel)",
   "language": "python",
   "name": "python3"
  },
  "language_info": {
   "codemirror_mode": {
    "name": "ipython",
    "version": 3
   },
   "file_extension": ".py",
   "mimetype": "text/x-python",
   "name": "python",
   "nbconvert_exporter": "python",
   "pygments_lexer": "ipython3",
   "version": "3.7.11"
  }
 },
 "nbformat": 4,
 "nbformat_minor": 4
}
