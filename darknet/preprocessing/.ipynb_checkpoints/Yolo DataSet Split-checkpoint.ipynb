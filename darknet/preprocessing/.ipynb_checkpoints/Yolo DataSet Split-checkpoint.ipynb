{
 "cells": [
  {
   "cell_type": "code",
   "execution_count": 6,
   "id": "f9f8a987",
   "metadata": {},
   "outputs": [],
   "source": [
    "import glob\n",
    "import random\n",
    "import os\n",
    "import shutil"
   ]
  },
  {
   "cell_type": "code",
   "execution_count": 7,
   "id": "dbaa0075",
   "metadata": {},
   "outputs": [],
   "source": [
    "# Get all paths to your images files and text files\n",
    "imgPATH = 'D:/DataSet/image/'\n",
    "img_paths = glob.glob(imgPATH + '*.jpg')\n",
    "txt_paths = glob.glob(imgPATH + '*.txt')\n",
    "\n",
    "# Calculate number of files for training, validation\n",
    "data_size = len(img_paths)\n",
    "train_ratio = 0.8\n",
    "train_size = int(data_size * train_ratio)\n",
    "\n",
    "# Shuffle two list\n",
    "img_txt = list(zip(img_paths, txt_paths))\n",
    "random.seed()\n",
    "random.shuffle(img_txt)\n",
    "img_paths, txt_paths = zip(*img_txt)\n",
    "\n",
    "# split\n",
    "train_img_paths = img_paths[:train_size]\n",
    "train_txt_paths = txt_paths[:train_size]\n",
    "\n",
    "valid_img_paths = img_paths[train_size:]\n",
    "valid_txt_paths = txt_paths[train_size:]\n",
    "\n",
    "# Move them to train, valid folders\n",
    "train_folder = imgPATH + 'train/' \n",
    "valid_folder = imgPATH + 'valid/'\n",
    "if not os.path.exists(train_folder):\n",
    "    os.mkdir(train_folder)\n",
    "if not os.path.exists(valid_folder):\n",
    "    os.mkdir(valid_folder)"
   ]
  },
  {
   "cell_type": "code",
   "execution_count": 8,
   "id": "bd03f55d",
   "metadata": {},
   "outputs": [],
   "source": [
    "def move(paths, folder):\n",
    "    for p in paths:\n",
    "        shutil.move(p, folder)"
   ]
  },
  {
   "cell_type": "code",
   "execution_count": 9,
   "id": "04046c8d",
   "metadata": {},
   "outputs": [],
   "source": [
    "def savePath(folder):\n",
    "    txtName = folder.split('/')\n",
    "    txtSavePATH = 'D:/DataSet/' + txtName[3] + '.txt'\n",
    "    fileList = glob.glob(folder + '*.jpg')\n",
    "    txtList = []\n",
    "    for i in fileList:\n",
    "        tmp = i.replace(\"\\\\\", \"/\")\n",
    "        txtList.append(tmp)\n",
    "    with open(txtSavePATH, 'w+') as f:\n",
    "        f.write('\\n'.join(txtList))"
   ]
  },
  {
   "cell_type": "code",
   "execution_count": 10,
   "id": "c2fda2f3",
   "metadata": {},
   "outputs": [],
   "source": [
    "move(train_img_paths, train_folder)\n",
    "move(train_txt_paths, train_folder)\n",
    "move(valid_img_paths, valid_folder)\n",
    "move(valid_txt_paths, valid_folder)\n",
    "\n",
    "savePath(train_folder)\n",
    "savePath(valid_folder)"
   ]
  },
  {
   "cell_type": "code",
   "execution_count": null,
   "id": "4a3409aa",
   "metadata": {},
   "outputs": [],
   "source": []
  }
 ],
 "metadata": {
  "kernelspec": {
   "display_name": "Python 3 (ipykernel)",
   "language": "python",
   "name": "python3"
  },
  "language_info": {
   "codemirror_mode": {
    "name": "ipython",
    "version": 3
   },
   "file_extension": ".py",
   "mimetype": "text/x-python",
   "name": "python",
   "nbconvert_exporter": "python",
   "pygments_lexer": "ipython3",
   "version": "3.7.11"
  }
 },
 "nbformat": 4,
 "nbformat_minor": 5
}
