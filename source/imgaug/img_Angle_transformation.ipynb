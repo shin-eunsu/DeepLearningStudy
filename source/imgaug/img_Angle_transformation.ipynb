{
 "cells": [
  {
   "cell_type": "code",
   "execution_count": 3,
   "metadata": {},
   "outputs": [],
   "source": [
    "import os\n",
    "import tensorflow as tf\n",
    "import numpy as np\n",
    "import math\n",
    "from PIL import Image\n",
    "import csv"
   ]
  },
  {
   "cell_type": "code",
   "execution_count": 4,
   "metadata": {},
   "outputs": [],
   "source": [
    "HOME_PATH = '/home/cu'\n",
    "DATA_PATH = os.path.join(HOME_PATH, 'darknet/train_img/original_img')\n",
    "SAVE_PATH = os.path.join(HOME_PATH, 'darknet/train_img')"
   ]
  },
  {
   "cell_type": "code",
   "execution_count": 5,
   "metadata": {},
   "outputs": [
    {
     "data": {
      "text/plain": [
       "['cco1.jpg']"
      ]
     },
     "execution_count": 5,
     "metadata": {},
     "output_type": "execute_result"
    }
   ],
   "source": [
    "file_list = os.listdir(DATA_PATH)\n",
    "img_list = [file for file in file_list if file.endswith('.jpg')]\n",
    "img_list"
   ]
  },
  {
   "cell_type": "code",
   "execution_count": 9,
   "metadata": {
    "scrolled": true
   },
   "outputs": [
    {
     "name": "stdout",
     "output_type": "stream",
     "text": [
      "/home/cu/darknet/train_img/cco1_0.jpg\n",
      "/home/cu/darknet/train_img/cco1_10.jpg\n",
      "/home/cu/darknet/train_img/cco1_20.jpg\n",
      "/home/cu/darknet/train_img/cco1_30.jpg\n",
      "/home/cu/darknet/train_img/cco1_40.jpg\n",
      "/home/cu/darknet/train_img/cco1_50.jpg\n",
      "/home/cu/darknet/train_img/cco1_60.jpg\n",
      "/home/cu/darknet/train_img/cco1_70.jpg\n",
      "/home/cu/darknet/train_img/cco1_80.jpg\n",
      "/home/cu/darknet/train_img/cco1_90.jpg\n",
      "/home/cu/darknet/train_img/cco1_100.jpg\n",
      "/home/cu/darknet/train_img/cco1_110.jpg\n",
      "/home/cu/darknet/train_img/cco1_120.jpg\n",
      "/home/cu/darknet/train_img/cco1_130.jpg\n",
      "/home/cu/darknet/train_img/cco1_140.jpg\n",
      "/home/cu/darknet/train_img/cco1_150.jpg\n",
      "/home/cu/darknet/train_img/cco1_160.jpg\n",
      "/home/cu/darknet/train_img/cco1_170.jpg\n",
      "/home/cu/darknet/train_img/cco1_180.jpg\n",
      "/home/cu/darknet/train_img/cco1_190.jpg\n",
      "/home/cu/darknet/train_img/cco1_200.jpg\n",
      "/home/cu/darknet/train_img/cco1_210.jpg\n",
      "/home/cu/darknet/train_img/cco1_220.jpg\n",
      "/home/cu/darknet/train_img/cco1_230.jpg\n",
      "/home/cu/darknet/train_img/cco1_240.jpg\n",
      "/home/cu/darknet/train_img/cco1_250.jpg\n",
      "/home/cu/darknet/train_img/cco1_260.jpg\n",
      "/home/cu/darknet/train_img/cco1_270.jpg\n",
      "/home/cu/darknet/train_img/cco1_280.jpg\n",
      "/home/cu/darknet/train_img/cco1_290.jpg\n",
      "/home/cu/darknet/train_img/cco1_300.jpg\n",
      "/home/cu/darknet/train_img/cco1_310.jpg\n",
      "/home/cu/darknet/train_img/cco1_320.jpg\n",
      "/home/cu/darknet/train_img/cco1_330.jpg\n",
      "/home/cu/darknet/train_img/cco1_340.jpg\n",
      "/home/cu/darknet/train_img/cco1_350.jpg\n"
     ]
    }
   ],
   "source": [
    "for i in range(0, len(img_list)):\n",
    "    f = open(os.path.join(DATA_PATH, img_list[i]))\n",
    "    original_img = Image.open(f.name)\n",
    "    img_names = ['{0}{1}.jpg'.format(f.name.replace('original_img/', '').replace('.jpg', '_'), i*10) for i in range(0,36)]\n",
    "    for j in range(0, 36):\n",
    "        rotate_img = original_img.rotate(j*10)\n",
    "        rotate_img.save(img_names[j])\n",
    "        print(img_names[j])"
   ]
  },
  {
   "cell_type": "code",
   "execution_count": null,
   "metadata": {},
   "outputs": [],
   "source": []
  }
 ],
 "metadata": {
  "kernelspec": {
   "display_name": "Python 3",
   "language": "python",
   "name": "python3"
  },
  "language_info": {
   "codemirror_mode": {
    "name": "ipython",
    "version": 3
   },
   "file_extension": ".py",
   "mimetype": "text/x-python",
   "name": "python",
   "nbconvert_exporter": "python",
   "pygments_lexer": "ipython3",
   "version": "3.6.10"
  }
 },
 "nbformat": 4,
 "nbformat_minor": 2
}
