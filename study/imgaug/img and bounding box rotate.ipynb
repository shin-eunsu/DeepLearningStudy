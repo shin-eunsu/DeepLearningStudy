{
 "cells": [
  {
   "cell_type": "code",
   "execution_count": 4,
   "metadata": {},
   "outputs": [],
   "source": [
    "import os\n",
    "import tensorflow as tf\n",
    "import numpy as np\n",
    "import math\n",
    "from PIL import Image\n",
    "import csv\n",
    "from pathlib import Path\n",
    "import cv2"
   ]
  },
  {
   "cell_type": "markdown",
   "metadata": {},
   "source": [
    "blue = (255,0,0)\n",
    "green = (0,255,0)\n",
    "red = (0,0,255)\n",
    "white = (255,255,255)\n",
    "img = np.zeros((800,800,3), np.uint8)"
   ]
  },
  {
   "cell_type": "code",
   "execution_count": 5,
   "metadata": {},
   "outputs": [],
   "source": [
    "HOME_PATH = '/home/cu'\n",
    "DATA_PATH = os.path.join(HOME_PATH, 'darknet/train_img/original_img')\n",
    "SAVE_PATH = os.path.join(HOME_PATH, 'darknet/train_img')"
   ]
  },
  {
   "cell_type": "code",
   "execution_count": 6,
   "metadata": {
    "scrolled": false
   },
   "outputs": [],
   "source": [
    "file_list = os.listdir(DATA_PATH)\n",
    "img_list = [file for file in file_list if file.endswith('.jpg')]\n",
    "txt_list = [file for file in file_list if file.endswith('.txt')]\n",
    "img_list\n",
    "\n",
    "degree = 10\n",
    "range_max = 36\n",
    "\n",
    "for i in range(0, len(txt_list)):\n",
    "    #image file\n",
    "    f = open(os.path.join(DATA_PATH, txt_list[i]))\n",
    "    original_img = Image.open(f.name.replace('txt', 'jpg'))\n",
    "    img_names = ['{0}{1}.jpg'.format(f.name.replace('original_img/', '').replace('.txt', '_'), i * degree) for i in range(0, range_max)] \n",
    "    \n",
    "    #txt file\n",
    "    txt_names = [img_names[i].replace('jpg', 'txt') for i in range(0, range_max)]\n",
    "\n",
    "    #(현재 한줄만 읽음)    \n",
    "    data = f.readline().split()\n",
    "    img_class = data[0]\n",
    "    x = float(data[1])\n",
    "    y = float(data[2])    \n",
    "    w = float(data[3])\n",
    "    h = float(data[4])\n",
    "    \n",
    "    x0 = 0.5\n",
    "    y0 = 0.5\n",
    "\n",
    "    x1 = x - (w/2)\n",
    "    y1 = y - (h/2)\n",
    "    \n",
    "    x2 = x + (w/2)\n",
    "    y2 = y - (h/2)\n",
    "    \n",
    "    x3 = x - (w/2)\n",
    "    y3 = y + (h/2)\n",
    "    \n",
    "    x4 = x + (w/2)\n",
    "    y4 = y + (h/2)\n",
    "    \n",
    "    for j in range(0, 36):\n",
    "        #Image 처리\n",
    "        rotate_img = original_img.rotate(j * 10)\n",
    "        rotate_img.save(img_names[j])        \n",
    "        #print(txt_names[j])\n",
    "        \n",
    "        #bounding box\n",
    "        theta =  math.radians(j * 10)\n",
    "        #theta =  j * 10\n",
    "                \n",
    "        rx1 = x0 + (x1-x0) * math.cos(theta) - (y1-y0) * math.sin(theta)\n",
    "        ry1 = y0 + (x1-x0) * math.sin(theta) + (y1-y0) * math.cos(theta)\n",
    "        \n",
    "        rx2 = x0 + (x2-x0) * math.cos(theta) - (y2-y0) * math.sin(theta)\n",
    "        ry2 = y0 + (x2-x0) * math.sin(theta) + (y2-y0) * math.cos(theta)\n",
    "        \n",
    "        rx3 = x0 + (x3-x0) * math.cos(theta) - (y3-y0) * math.sin(theta)\n",
    "        ry3 = y0 + (x3-x0) * math.sin(theta) + (y3-y0) * math.cos(theta)\n",
    "        \n",
    "        rx4 = x0 + (x4-x0) * math.cos(theta) - (y4-y0) * math.sin(theta)\n",
    "        ry4 = y0 + (x4-x0) * math.sin(theta) + (y4-y0) * math.cos(theta)\n",
    "\n",
    "        rX = [rx1, rx2, rx3, rx4]\n",
    "        rY = [ry1, ry2, ry3, ry4]\n",
    "\n",
    "        min_rx = min(rX)\n",
    "        max_rx = max(rX)\n",
    "        \n",
    "        min_ry = min(rY)\n",
    "        max_ry = max(rY)\n",
    "\n",
    "        rW = max_rx - min_rx\n",
    "        rH = max_ry - min_ry\n",
    "        \n",
    "        rx0 = min_rx + (rW/2)\n",
    "        ry0 = min_ry + (rH/2)\n",
    "\n",
    "        f2 = open(os.path.join(SAVE_PATH, txt_names[j]), 'w')\n",
    "        f_data = str(img_class)+' '+str(rx0)+' '+str(ry0)+' '+str(rW)+' '+str(rH)\n",
    "        f2.write(f_data)\n",
    "        f2.close\n",
    "        #print(rx0, ry0, rW, rH)\n",
    "        #print(min_ry, max_ry)\n",
    "        #print(theta)\n",
    "    f.close()"
   ]
  },
  {
   "cell_type": "code",
   "execution_count": 46,
   "metadata": {},
   "outputs": [
    {
     "name": "stdout",
     "output_type": "stream",
     "text": [
      "2 0.493359 0.288194 0.239844 0.240278\n"
     ]
    }
   ],
   "source": [
    "print(img_class, x0, y0, w, h)"
   ]
  },
  {
   "cell_type": "code",
   "execution_count": 40,
   "metadata": {},
   "outputs": [
    {
     "data": {
      "text/plain": [
       "'2 0.515234 0.317361 0.3793668061888944 0.2617064874659112'"
      ]
     },
     "execution_count": 40,
     "metadata": {},
     "output_type": "execute_result"
    }
   ],
   "source": [
    "f_data"
   ]
  },
  {
   "cell_type": "code",
   "execution_count": null,
   "metadata": {},
   "outputs": [],
   "source": []
  }
 ],
 "metadata": {
  "kernelspec": {
   "display_name": "Python 3",
   "language": "python",
   "name": "python3"
  },
  "language_info": {
   "codemirror_mode": {
    "name": "ipython",
    "version": 3
   },
   "file_extension": ".py",
   "mimetype": "text/x-python",
   "name": "python",
   "nbconvert_exporter": "python",
   "pygments_lexer": "ipython3",
   "version": "3.6.10"
  }
 },
 "nbformat": 4,
 "nbformat_minor": 2
}
