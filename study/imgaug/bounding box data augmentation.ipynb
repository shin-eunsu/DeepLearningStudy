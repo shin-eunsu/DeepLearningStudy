{
 "cells": [
  {
   "cell_type": "code",
   "execution_count": 108,
   "metadata": {},
   "outputs": [],
   "source": [
    "import os\n",
    "import tensorflow as tf\n",
    "import numpy as np\n",
    "import math\n",
    "\n",
    "from PIL import Image\n"
   ]
  },
  {
   "cell_type": "code",
   "execution_count": 117,
   "metadata": {},
   "outputs": [],
   "source": [
    "HOME_PATH = '/home/cu'\n",
    "DATA_PATH = os.path.join(HOME_PATH, 'darknet/train_img/original_img')\n",
    "SAVE_PATH = os.path.join(HOME_PATH, 'darknet/train_img')"
   ]
  },
  {
   "cell_type": "code",
   "execution_count": 118,
   "metadata": {},
   "outputs": [],
   "source": [
    "file_list = os.listdir(DATA_PATH)\n",
    "img_list = [file for file in file_list if file.endswith('.jpg')]\n",
    "txt_list = [file for file in file_list if file.endswith('.txt')]"
   ]
  },
  {
   "cell_type": "code",
   "execution_count": 119,
   "metadata": {},
   "outputs": [],
   "source": [
    "#print(img_list)"
   ]
  },
  {
   "cell_type": "code",
   "execution_count": 120,
   "metadata": {},
   "outputs": [
    {
     "name": "stdout",
     "output_type": "stream",
     "text": [
      "['cco1.txt']\n"
     ]
    }
   ],
   "source": [
    "print(txt_list)"
   ]
  },
  {
   "cell_type": "markdown",
   "metadata": {},
   "source": [
    "## bounding box rotation"
   ]
  },
  {
   "cell_type": "code",
   "execution_count": 124,
   "metadata": {
    "scrolled": false
   },
   "outputs": [
    {
     "name": "stdout",
     "output_type": "stream",
     "text": [
      "0.500781 0.49236099999999994 0.26202048237174 0.26089378172158545\n",
      "0.500781 0.492361 0.28969060497537646 0.28886043790418425\n",
      "0.500781 0.492361 0.30855862513735527 0.3080502158514987\n",
      "0.5007810000000001 0.49236099999999994 0.3180512476127336 0.317880043871096\n",
      "0.5007809999999999 0.492361 0.3178800438710959 0.3180512476127336\n",
      "0.5007810000000001 0.492361 0.3080502158514987 0.3085586251373552\n",
      "0.500781 0.492361 0.28886043790418414 0.28969060497537635\n",
      "0.500781 0.49236100000000005 0.2608937817215855 0.2620204823717401\n",
      "0.500781 0.49236099999999994 0.22499999999999992 0.2263889999999999\n",
      "0.500781 0.49236099999999994 0.2608937817215855 0.26202048237173997\n",
      "0.500781 0.492361 0.2888604379041842 0.28969060497537635\n",
      "0.500781 0.49236099999999994 0.3080502158514986 0.3085586251373551\n",
      "0.5007809999999999 0.492361 0.3178800438710959 0.3180512476127336\n",
      "0.500781 0.492361 0.3180512476127337 0.3178800438710959\n",
      "0.500781 0.492361 0.30855862513735527 0.3080502158514987\n",
      "0.500781 0.492361 0.28969060497537646 0.28886043790418425\n",
      "0.500781 0.49236099999999994 0.26202048237174 0.26089378172158545\n",
      "0.500781 0.492361 0.22638899999999995 0.22499999999999998\n",
      "0.5007810000000001 0.49236100000000005 0.26202048237174014 0.26089378172158556\n",
      "0.500781 0.492361 0.28969060497537646 0.28886043790418425\n",
      "0.500781 0.49236100000000005 0.3085586251373553 0.30805021585149867\n",
      "0.5007810000000001 0.49236099999999994 0.3180512476127336 0.317880043871096\n",
      "0.500781 0.492361 0.31788004387109603 0.3180512476127336\n",
      "0.500781 0.492361 0.30805021585149867 0.3085586251373552\n",
      "0.500781 0.492361 0.28886043790418414 0.28969060497537635\n",
      "0.500781 0.49236099999999994 0.2608937817215855 0.26202048237173997\n",
      "0.500781 0.49236099999999994 0.22499999999999992 0.2263889999999999\n",
      "0.500781 0.492361 0.26089378172158545 0.2620204823717399\n",
      "0.5007810000000001 0.49236099999999994 0.28886043790418425 0.2896906049753764\n",
      "0.5007810000000001 0.492361 0.3080502158514987 0.3085586251373552\n",
      "0.500781 0.49236100000000005 0.317880043871096 0.31805124761273357\n",
      "0.500781 0.492361 0.31805124761273357 0.3178800438710959\n",
      "0.500781 0.49236099999999994 0.30855862513735527 0.3080502158514986\n",
      "0.500781 0.49236100000000005 0.28969060497537646 0.2888604379041842\n",
      "0.5007810000000001 0.49236099999999994 0.26202048237174014 0.26089378172158545\n",
      "0.500781 0.492361 0.22638899999999995 0.22499999999999998\n"
     ]
    }
   ],
   "source": [
    "f = open(os.path.join(DATA_PATH, txt_list[0]))\n",
    "img_original = Image.open(f.name.replace('txt', 'jpg'))\n",
    "\n",
    "img_names = ['{0}{1}.jpg'.format(f.name.replace('.txt', ''), i*10) for i in range(1,36)]\n",
    "\n",
    "#(현재 한줄만 읽음)\n",
    "data = f.readline().split()\n",
    "img_class = data[0]\n",
    "x0 = float(data[1])\n",
    "y0 = float(data[2])\n",
    "h = float(data[3])\n",
    "w = float(data[4])\n",
    "\n",
    "x1 = x0 - (w/2)\n",
    "y1 = y0 - (h/2)\n",
    "x2 = x0 + (w/2)\n",
    "y2 = y0 - (h/2)\n",
    "x3 = x0 - (w/2)\n",
    "y3 = y0 + (h/2)\n",
    "x4 = x0 + (w/2)\n",
    "y4 = y0 + (h/2)\n",
    "\n",
    "for i in range(0,36):\n",
    "    theta =  math.radians((i+1) * 10)\n",
    "    \n",
    "    rx1 = x0 + (x1-x0) * math.cos(theta) + (y1-y0) * math.sin(theta)\n",
    "    ry1 = y0 - (x1-x0) * math.sin(theta) + (y1-y0) * math.cos(theta)\n",
    "    \n",
    "    rx2 = x0 + (x2-x0) * math.cos(theta) + (y2-y0) * math.sin(theta)\n",
    "    ry2 = y0 - (x2-x0) * math.sin(theta) + (y2-y0) * math.cos(theta)\n",
    "    \n",
    "    rx3 = x0 + (x3-x0) * math.cos(theta) + (y3-y0) * math.sin(theta)\n",
    "    ry3 = y0 - (x3-x0) * math.sin(theta) + (y3-y0) * math.cos(theta)\n",
    "    \n",
    "    rx4 = x0 + (x4-x0) * math.cos(theta) + (y4-y0) * math.sin(theta)\n",
    "    ry4 = y0 - (x4-x0) * math.sin(theta) + (y4-y0) * math.cos(theta)\n",
    "    \n",
    "    rX = [rx1, rx2, rx3, rx4]\n",
    "    rY = [ry1, ry2, ry3, ry4]\n",
    "    \n",
    "    min_rx = min(rX)\n",
    "    max_rx = max(rX)\n",
    "    min_ry = min(rY)\n",
    "    max_ry = max(rY)\n",
    "    \n",
    "    rW = max_rx - min_rx\n",
    "    rH = max_ry - min_ry\n",
    "    rx0 = max_rx - (rW/2)\n",
    "    ry0 = max_ry - (rH/2)\n",
    "    \n",
    "    #fw = open(os.path.join(DATA_PATH, txt_list[0]), 'w')\n",
    "    #f_data = str(rx0) + ' ' + str(ry0) + ' ' + str(rW) + ' ' + str(rH)\n",
    "        \n",
    "    print(rx0, ry0, rW, rH)\n",
    "        \n",
    "f.close()\n"
   ]
  },
  {
   "cell_type": "code",
   "execution_count": 92,
   "metadata": {},
   "outputs": [
    {
     "data": {
      "text/plain": [
       "''"
      ]
     },
     "execution_count": 92,
     "metadata": {},
     "output_type": "execute_result"
    }
   ],
   "source": [
    "f.readline()"
   ]
  },
  {
   "cell_type": "code",
   "execution_count": 65,
   "metadata": {},
   "outputs": [
    {
     "name": "stdout",
     "output_type": "stream",
     "text": [
      "/home/cu/github/deep_learning/test_img/poca_back10.jpg\n",
      "/home/cu/github/deep_learning/test_img/poca_back20.jpg\n",
      "/home/cu/github/deep_learning/test_img/poca_back30.jpg\n",
      "/home/cu/github/deep_learning/test_img/poca_back40.jpg\n",
      "/home/cu/github/deep_learning/test_img/poca_back50.jpg\n",
      "/home/cu/github/deep_learning/test_img/poca_back60.jpg\n",
      "/home/cu/github/deep_learning/test_img/poca_back70.jpg\n",
      "/home/cu/github/deep_learning/test_img/poca_back80.jpg\n",
      "/home/cu/github/deep_learning/test_img/poca_back90.jpg\n",
      "/home/cu/github/deep_learning/test_img/poca_back100.jpg\n",
      "/home/cu/github/deep_learning/test_img/poca_back110.jpg\n",
      "/home/cu/github/deep_learning/test_img/poca_back120.jpg\n",
      "/home/cu/github/deep_learning/test_img/poca_back130.jpg\n",
      "/home/cu/github/deep_learning/test_img/poca_back140.jpg\n",
      "/home/cu/github/deep_learning/test_img/poca_back150.jpg\n",
      "/home/cu/github/deep_learning/test_img/poca_back160.jpg\n",
      "/home/cu/github/deep_learning/test_img/poca_back170.jpg\n",
      "/home/cu/github/deep_learning/test_img/poca_back180.jpg\n",
      "/home/cu/github/deep_learning/test_img/poca_back190.jpg\n",
      "/home/cu/github/deep_learning/test_img/poca_back200.jpg\n",
      "/home/cu/github/deep_learning/test_img/poca_back210.jpg\n",
      "/home/cu/github/deep_learning/test_img/poca_back220.jpg\n",
      "/home/cu/github/deep_learning/test_img/poca_back230.jpg\n",
      "/home/cu/github/deep_learning/test_img/poca_back240.jpg\n",
      "/home/cu/github/deep_learning/test_img/poca_back250.jpg\n",
      "/home/cu/github/deep_learning/test_img/poca_back260.jpg\n",
      "/home/cu/github/deep_learning/test_img/poca_back270.jpg\n",
      "/home/cu/github/deep_learning/test_img/poca_back280.jpg\n",
      "/home/cu/github/deep_learning/test_img/poca_back290.jpg\n",
      "/home/cu/github/deep_learning/test_img/poca_back300.jpg\n",
      "/home/cu/github/deep_learning/test_img/poca_back310.jpg\n",
      "/home/cu/github/deep_learning/test_img/poca_back320.jpg\n",
      "/home/cu/github/deep_learning/test_img/poca_back330.jpg\n",
      "/home/cu/github/deep_learning/test_img/poca_back340.jpg\n",
      "/home/cu/github/deep_learning/test_img/poca_back350.jpg\n"
     ]
    }
   ],
   "source": [
    "for img_name in img_names:\n",
    "    #print(img_name)\n",
    "    print(os.path.join(DATA_PATH, img_name))"
   ]
  },
  {
   "cell_type": "code",
   "execution_count": 10,
   "metadata": {
    "scrolled": true
   },
   "outputs": [],
   "source": [
    "    for i in range(1,3):\n",
    "        img_name = img_original.rotate(i*10)\n",
    "        #img_name.show()"
   ]
  },
  {
   "cell_type": "code",
   "execution_count": 12,
   "metadata": {},
   "outputs": [],
   "source": [
    "im3 = img_original.rotate(10)"
   ]
  },
  {
   "cell_type": "code",
   "execution_count": 11,
   "metadata": {},
   "outputs": [
    {
     "name": "stdout",
     "output_type": "stream",
     "text": [
      "/home/cu/github/deep_learning/test_img/poca_back.txt\n",
      "/home/cu/github/deep_learning/test_img/poca_back.jpg\n"
     ]
    }
   ],
   "source": [
    "print(f.name)\n",
    "im = f.name.replace('txt', 'jpg')\n",
    "print(im)"
   ]
  },
  {
   "cell_type": "code",
   "execution_count": 49,
   "metadata": {},
   "outputs": [],
   "source": [
    "import matplotlib.pyplot as plt\n",
    "plt.show()"
   ]
  },
  {
   "cell_type": "code",
   "execution_count": 12,
   "metadata": {
    "scrolled": true
   },
   "outputs": [
    {
     "name": "stdout",
     "output_type": "stream",
     "text": [
      "['2', '0.552734', '0.514583', '0.328906', '0.598611']\n",
      "['0', '0.507812', '0.497222', '0.334375', '0.605556']\n",
      "['2', '0.515625', '0.461111', '0.415625', '0.747222']\n",
      "['1', '0.532031', '0.458333', '0.390625', '0.647222']\n",
      "['0', '0.550781', '0.522222', '0.370313', '0.686111']\n",
      "['1', '0.540234', '0.473611', '0.464844', '0.697222']\n",
      "1\n"
     ]
    }
   ],
   "source": [
    "for i in txt_list:\n",
    "    f = open(os.path.join(DATA_PATH, i))\n",
    "    \n",
    "    while True:\n",
    "        line = f.readline()\n",
    "        #img_class.append(data[0])        \n",
    "        if not line:\n",
    "            break\n",
    "        data = line.split()\n",
    "        img_class = data[0]\n",
    "        img_x = data[1]\n",
    "        img_y = data[2]\n",
    "        img_h = data[3]\n",
    "        img_w = data[4]\n",
    "        \n",
    "        \n",
    "        \n",
    "        \n",
    "        \n",
    "    print(data)\n",
    "    f.close()"
   ]
  },
  {
   "cell_type": "code",
   "execution_count": 26,
   "metadata": {},
   "outputs": [
    {
     "name": "stdout",
     "output_type": "stream",
     "text": [
      "['1', '0', '1', '2', '0', '2', '2']\n"
     ]
    }
   ],
   "source": []
  }
 ],
 "metadata": {
  "kernelspec": {
   "display_name": "Python 3",
   "language": "python",
   "name": "python3"
  },
  "language_info": {
   "codemirror_mode": {
    "name": "ipython",
    "version": 3
   },
   "file_extension": ".py",
   "mimetype": "text/x-python",
   "name": "python",
   "nbconvert_exporter": "python",
   "pygments_lexer": "ipython3",
   "version": "3.6.10"
  }
 },
 "nbformat": 4,
 "nbformat_minor": 2
}
