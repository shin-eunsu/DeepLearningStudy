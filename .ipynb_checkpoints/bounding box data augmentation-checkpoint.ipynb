{
 "cells": [
  {
   "cell_type": "code",
   "execution_count": 2,
   "metadata": {},
   "outputs": [],
   "source": [
    "import os\n",
    "import tensorflow as tf\n",
    "import numpy as np\n",
    "\n",
    "from PIL import Image\n"
   ]
  },
  {
   "cell_type": "code",
   "execution_count": 3,
   "metadata": {},
   "outputs": [],
   "source": [
    "HOME_PATH = '/home/cu'\n",
    "DATA_PATH = os.path.join(HOME_PATH, 'github/deep_learning/test_img')"
   ]
  },
  {
   "cell_type": "code",
   "execution_count": 4,
   "metadata": {},
   "outputs": [],
   "source": [
    "file_list = os.listdir(DATA_PATH)\n",
    "img_list = [file for file in file_list if file.endswith('.jpg')]\n",
    "txt_list = [file for file in file_list if file.endswith('.txt')]"
   ]
  },
  {
   "cell_type": "code",
   "execution_count": 5,
   "metadata": {},
   "outputs": [
    {
     "name": "stdout",
     "output_type": "stream",
     "text": [
      "['sun_front.jpg', 'honey_front.jpg', 'poca_front.jpg', 'poca_back.jpg', 'honey_back.jpg', 'sun_back.jpg']\n"
     ]
    }
   ],
   "source": [
    "print(img_list)"
   ]
  },
  {
   "cell_type": "code",
   "execution_count": 6,
   "metadata": {},
   "outputs": [
    {
     "name": "stdout",
     "output_type": "stream",
     "text": [
      "['poca_back.txt', 'sun_front.txt', 'poca_front.txt', 'honey_back.txt', 'sun_back.txt', 'honey_front.txt']\n"
     ]
    }
   ],
   "source": [
    "print(txt_list)"
   ]
  },
  {
   "cell_type": "code",
   "execution_count": 7,
   "metadata": {
    "scrolled": true
   },
   "outputs": [
    {
     "name": "stdout",
     "output_type": "stream",
     "text": [
      "2 0.552734 0.514583 0.328906 0.598611\n"
     ]
    }
   ],
   "source": [
    "f = open(os.path.join(DATA_PATH, txt_list[0]))\n",
    "img_original = Image.open(f.name.replace('txt', 'jpg'))\n",
    "\n",
    "img_names = ['img_rotate{}.jpg'.format(i*10) for i in range(1,36)]\n",
    "for img_name in img_names:\n",
    "    for i in range(1,3):\n",
    "        img_name = img_original.rotate(i*10)\n",
    "        img_name.save(os.path.join(DATA_PATH, img_name))\n",
    "        img_name.show()\n",
    "\n",
    "        \n",
    "data = f.readline().split()\n",
    "img_class = data[0]\n",
    "img_x = data[1]\n",
    "img_y = data[2]\n",
    "img_h = data[3]\n",
    "img_w = data[4]\n",
    "\n",
    "f.close()\n",
    "\n",
    "print(img_class, img_x, img_y, img_h, img_w)"
   ]
  },
  {
   "cell_type": "code",
   "execution_count": 11,
   "metadata": {
    "scrolled": true
   },
   "outputs": [],
   "source": [
    "    for i in range(1,3):\n",
    "        img_name = img_original.rotate(i*10)\n",
    "        img_name.show()"
   ]
  },
  {
   "cell_type": "code",
   "execution_count": 10,
   "metadata": {},
   "outputs": [],
   "source": [
    "img_original.show()"
   ]
  },
  {
   "cell_type": "code",
   "execution_count": 9,
   "metadata": {},
   "outputs": [],
   "source": [
    "im3 = img_original.rotate(10)"
   ]
  },
  {
   "cell_type": "code",
   "execution_count": 45,
   "metadata": {},
   "outputs": [
    {
     "name": "stdout",
     "output_type": "stream",
     "text": [
      "/home/cu/github/deep_learning/test_img/poca_back.txt\n",
      "/home/cu/github/deep_learning/test_img/poca_back.jpg\n"
     ]
    }
   ],
   "source": [
    "print(f.name)\n",
    "im = f.name.replace('txt', 'jpg')\n",
    "print(im)"
   ]
  },
  {
   "cell_type": "code",
   "execution_count": 49,
   "metadata": {},
   "outputs": [],
   "source": [
    "import matplotlib.pyplot as plt\n",
    "plt.show()"
   ]
  },
  {
   "cell_type": "code",
   "execution_count": 12,
   "metadata": {
    "scrolled": true
   },
   "outputs": [
    {
     "name": "stdout",
     "output_type": "stream",
     "text": [
      "['2', '0.552734', '0.514583', '0.328906', '0.598611']\n",
      "['0', '0.507812', '0.497222', '0.334375', '0.605556']\n",
      "['2', '0.515625', '0.461111', '0.415625', '0.747222']\n",
      "['1', '0.532031', '0.458333', '0.390625', '0.647222']\n",
      "['0', '0.550781', '0.522222', '0.370313', '0.686111']\n",
      "['1', '0.540234', '0.473611', '0.464844', '0.697222']\n",
      "1\n"
     ]
    }
   ],
   "source": [
    "for i in txt_list:\n",
    "    f = open(os.path.join(DATA_PATH, i))\n",
    "    \n",
    "    while True:\n",
    "        line = f.readline()\n",
    "        #img_class.append(data[0])        \n",
    "        if not line:\n",
    "            break\n",
    "        data = line.split()\n",
    "        img_class = data[0]\n",
    "        img_x = data[1]\n",
    "        img_y = data[2]\n",
    "        img_h = data[3]\n",
    "        img_w = data[4]\n",
    "        \n",
    "        \n",
    "        \n",
    "        \n",
    "        \n",
    "    print(data)\n",
    "    f.close()"
   ]
  },
  {
   "cell_type": "code",
   "execution_count": 26,
   "metadata": {},
   "outputs": [
    {
     "name": "stdout",
     "output_type": "stream",
     "text": [
      "['1', '0', '1', '2', '0', '2', '2']\n"
     ]
    }
   ],
   "source": []
  }
 ],
 "metadata": {
  "kernelspec": {
   "display_name": "Python 3",
   "language": "python",
   "name": "python3"
  },
  "language_info": {
   "codemirror_mode": {
    "name": "ipython",
    "version": 3
   },
   "file_extension": ".py",
   "mimetype": "text/x-python",
   "name": "python",
   "nbconvert_exporter": "python",
   "pygments_lexer": "ipython3",
   "version": "3.6.10"
  }
 },
 "nbformat": 4,
 "nbformat_minor": 2
}
